{
  "metadata": {
    "kernelspec": {
      "name": "python",
      "display_name": "Python (Pyodide)",
      "language": "python"
    },
    "language_info": {
      "codemirror_mode": {
        "name": "python",
        "version": 3
      },
      "file_extension": ".py",
      "mimetype": "text/x-python",
      "name": "python",
      "nbconvert_exporter": "python",
      "pygments_lexer": "ipython3",
      "version": "3.8"
    }
  },
  "nbformat_minor": 5,
  "nbformat": 4,
  "cells": [
    {
      "id": "8f3b4e0a-bccb-4c24-a7c7-cbadf39c8ff2",
      "cell_type": "code",
      "source": "print(\"helo world\")",
      "metadata": {
        "trusted": true
      },
      "outputs": [
        {
          "name": "stdout",
          "output_type": "stream",
          "text": "helo world\n"
        }
      ],
      "execution_count": 1
    },
    {
      "id": "d81bb9a2-5567-431b-a09b-bb38e7420aa0",
      "cell_type": "markdown",
      "source": "# sample Project",
      "metadata": {}
    },
    {
      "id": "03e1042b-c732-42cd-a78d-f9265b5b2c37",
      "cell_type": "code",
      "source": "a = \"hello world!\"",
      "metadata": {
        "trusted": true
      },
      "outputs": [],
      "execution_count": 2
    },
    {
      "id": "cc4b1d7e-2d82-4811-aaf4-e5668a35888f",
      "cell_type": "code",
      "source": "print(a[4])",
      "metadata": {
        "trusted": true
      },
      "outputs": [
        {
          "name": "stdout",
          "output_type": "stream",
          "text": "o\n"
        }
      ],
      "execution_count": 6
    },
    {
      "id": "3e8d3b47-995b-4a79-9e4b-9e3c841b620c",
      "cell_type": "code",
      "source": "print(a[:5])",
      "metadata": {
        "trusted": true
      },
      "outputs": [
        {
          "name": "stdout",
          "output_type": "stream",
          "text": "hello\n"
        }
      ],
      "execution_count": 4
    },
    {
      "id": "bbb792cc-1d7f-49f9-b845-dfb9d387d1b7",
      "cell_type": "code",
      "source": "print(a[2:5])",
      "metadata": {
        "trusted": true
      },
      "outputs": [
        {
          "name": "stdout",
          "output_type": "stream",
          "text": "llo\n"
        }
      ],
      "execution_count": 5
    },
    {
      "id": "ca9d4a3b-2565-47a3-9198-435e1f984c8e",
      "cell_type": "markdown",
      "source": "# list",
      "metadata": {}
    },
    {
      "id": "bb389527-38dc-4edd-ba65-6fb53ababb6f",
      "cell_type": "code",
      "source": "ice_cream = ['hot chocolate', 'vanila', 'strawberry']\nice_cream",
      "metadata": {
        "trusted": true
      },
      "outputs": [
        {
          "execution_count": 8,
          "output_type": "execute_result",
          "data": {
            "text/plain": "['hot chocolate', 'vanila', 'strawberry']"
          },
          "metadata": {}
        }
      ],
      "execution_count": 8
    },
    {
      "id": "909d0bd4-eb30-4d48-915b-7975a3690d05",
      "cell_type": "code",
      "source": "ice_cream.append('salted caramel')\nice_cream",
      "metadata": {
        "trusted": true
      },
      "outputs": [
        {
          "execution_count": 9,
          "output_type": "execute_result",
          "data": {
            "text/plain": "['hot chocolate', 'vanila', 'strawberry', 'salted caramel']"
          },
          "metadata": {}
        }
      ],
      "execution_count": 9
    },
    {
      "id": "6d6a5ba7-15cd-4368-9995-7d27ca77641c",
      "cell_type": "code",
      "source": "ice_cream[0] = 'butter pecan'",
      "metadata": {
        "trusted": true
      },
      "outputs": [],
      "execution_count": 10
    },
    {
      "id": "5121de10-b407-42ec-bf3f-1ccf6c25fc36",
      "cell_type": "code",
      "source": "ice_cream",
      "metadata": {
        "trusted": true
      },
      "outputs": [
        {
          "execution_count": 11,
          "output_type": "execute_result",
          "data": {
            "text/plain": "['butter pecan', 'vanila', 'strawberry', 'salted caramel']"
          },
          "metadata": {}
        }
      ],
      "execution_count": 11
    },
    {
      "id": "8b8aa612-8673-4bd6-96fb-b8a4e9b3127e",
      "cell_type": "markdown",
      "source": "# Tuples",
      "metadata": {}
    },
    {
      "id": "3d6845f1-ee44-4c01-8592-61c4c46156ba",
      "cell_type": "code",
      "source": "hello = (1,2,3,2,1)",
      "metadata": {
        "trusted": true
      },
      "outputs": [],
      "execution_count": 12
    },
    {
      "id": "bc32129a-8a5a-496b-a93e-b2ef76d92a40",
      "cell_type": "code",
      "source": "hello",
      "metadata": {
        "trusted": true
      },
      "outputs": [
        {
          "execution_count": 13,
          "output_type": "execute_result",
          "data": {
            "text/plain": "(1, 2, 3, 2, 1)"
          },
          "metadata": {}
        }
      ],
      "execution_count": 13
    },
    {
      "id": "0ff0db85-78e4-4e2c-a3ee-8dc0d1f11a70",
      "cell_type": "code",
      "source": "type(hello)",
      "metadata": {
        "trusted": true
      },
      "outputs": [
        {
          "execution_count": 14,
          "output_type": "execute_result",
          "data": {
            "text/plain": "tuple"
          },
          "metadata": {}
        }
      ],
      "execution_count": 14
    },
    {
      "id": "961b3118-94cb-470c-ad6e-27c2a558aa20",
      "cell_type": "markdown",
      "source": "# Set",
      "metadata": {}
    },
    {
      "id": "a55c3b8f-d706-472f-b0ed-ebd548e1bd6b",
      "cell_type": "code",
      "source": "number_values = {1,2,3, 9, 32, 7, 8, 9, 10, 88, 87, 87, 86}",
      "metadata": {
        "trusted": true
      },
      "outputs": [],
      "execution_count": 29
    },
    {
      "id": "e00b928b-4ada-4480-b4f2-ba6dc83ba066",
      "cell_type": "code",
      "source": "type(number_values)",
      "metadata": {
        "trusted": true
      },
      "outputs": [
        {
          "execution_count": 16,
          "output_type": "execute_result",
          "data": {
            "text/plain": "set"
          },
          "metadata": {}
        }
      ],
      "execution_count": 16
    },
    {
      "id": "bdb612c6-2b2a-47d1-ad75-00315bc5c28e",
      "cell_type": "code",
      "source": "print(number_values)",
      "metadata": {
        "trusted": true
      },
      "outputs": [
        {
          "name": "stdout",
          "output_type": "stream",
          "text": "{32, 1, 2, 3, 7, 8, 9, 10, 86, 87, 88}\n"
        }
      ],
      "execution_count": 30
    },
    {
      "id": "e2458d4b-5d53-45e8-a73a-e8aee7ec87fd",
      "cell_type": "code",
      "source": "number_values_comparison = {1,2,3, 4, 6, 7, 82, 90, 21}",
      "metadata": {
        "trusted": true
      },
      "outputs": [],
      "execution_count": 19
    },
    {
      "id": "5907e3e5-71b7-4218-b7fe-bd910d461fa5",
      "cell_type": "code",
      "source": "print(number_values | number_values_comparison)",
      "metadata": {
        "trusted": true
      },
      "outputs": [
        {
          "name": "stdout",
          "output_type": "stream",
          "text": "{1, 2, 3, 4, 6, 7, 82, 21, 90}\n"
        }
      ],
      "execution_count": 20
    },
    {
      "id": "c9037c52-d562-4e1d-9575-0ce0a5988bdd",
      "cell_type": "code",
      "source": "print(number_values & number_values_comparison)",
      "metadata": {
        "trusted": true
      },
      "outputs": [
        {
          "name": "stdout",
          "output_type": "stream",
          "text": "{1, 2, 3}\n"
        }
      ],
      "execution_count": 21
    },
    {
      "id": "85f355fa-4f60-4cf5-8a13-e27c3e058c4b",
      "cell_type": "code",
      "source": "print(number_values - number_values_comparison)",
      "metadata": {
        "trusted": true
      },
      "outputs": [
        {
          "name": "stdout",
          "output_type": "stream",
          "text": "{32, 8, 9, 10, 86, 87, 88}\n"
        }
      ],
      "execution_count": 31
    },
    {
      "id": "a5f3ee92-fce9-4d36-99dc-90b9b1f4d1da",
      "cell_type": "code",
      "source": "print(number_values_comparison - number_values)",
      "metadata": {
        "trusted": true
      },
      "outputs": [
        {
          "name": "stdout",
          "output_type": "stream",
          "text": "{4, 6, 82, 21, 90}\n"
        }
      ],
      "execution_count": 32
    },
    {
      "id": "7a8d66d3-f357-4af1-b882-0c76b4f99fa0",
      "cell_type": "code",
      "source": "print(number_values ^ number_values_comparison)",
      "metadata": {
        "trusted": true
      },
      "outputs": [
        {
          "name": "stdout",
          "output_type": "stream",
          "text": "{32, 4, 6, 8, 9, 10, 82, 21, 86, 87, 88, 90}\n"
        }
      ],
      "execution_count": 33
    },
    {
      "id": "a5488ca5-bbe1-4a06-bc5f-c983a8b8834b",
      "cell_type": "markdown",
      "source": "# dictinonary",
      "metadata": {}
    },
    {
      "id": "be8eec66-02c7-450e-8408-492f51478575",
      "cell_type": "code",
      "source": "dict_creams = { 'name' : 'Steffin thomas', 'weekly intake': 5, 'favorite flavor': ['MCC', 'chocolate', 'vanilla']}",
      "metadata": {
        "trusted": true
      },
      "outputs": [],
      "execution_count": 1
    },
    {
      "id": "e6991da9-e38b-4926-9ab5-70d0dddb4d8e",
      "cell_type": "code",
      "source": "print(dict_creams)",
      "metadata": {
        "trusted": true
      },
      "outputs": [
        {
          "name": "stdout",
          "output_type": "stream",
          "text": "{'name': 'Steffin thomas', 'weekly intake': 5, 'favorite flavor': ['MCC', 'chocolate', 'vanilla']}\n"
        }
      ],
      "execution_count": 5
    },
    {
      "id": "79631a48-e5c6-4c79-b1c1-91aee531dd72",
      "cell_type": "code",
      "source": "type(dict_creams)",
      "metadata": {
        "trusted": true
      },
      "outputs": [
        {
          "execution_count": 6,
          "output_type": "execute_result",
          "data": {
            "text/plain": "dict"
          },
          "metadata": {}
        }
      ],
      "execution_count": 6
    },
    {
      "id": "2b576b9c-285a-4f01-88df-3c57395698b8",
      "cell_type": "code",
      "source": "dict_creams.keys()",
      "metadata": {
        "trusted": true
      },
      "outputs": [
        {
          "execution_count": 7,
          "output_type": "execute_result",
          "data": {
            "text/plain": "dict_keys(['name', 'weekly intake', 'favorite flavor'])"
          },
          "metadata": {}
        }
      ],
      "execution_count": 7
    },
    {
      "id": "4e95b88b-b321-424e-9b21-35b12227e668",
      "cell_type": "code",
      "source": "dict_creams.values()",
      "metadata": {
        "trusted": true
      },
      "outputs": [
        {
          "execution_count": 8,
          "output_type": "execute_result",
          "data": {
            "text/plain": "dict_values(['Steffin thomas', 5, ['MCC', 'chocolate', 'vanilla']])"
          },
          "metadata": {}
        }
      ],
      "execution_count": 8
    },
    {
      "id": "f6d69a61-fd30-4090-b037-1ecd9ed821ea",
      "cell_type": "code",
      "source": "dict_creams.items()",
      "metadata": {
        "trusted": true
      },
      "outputs": [
        {
          "execution_count": 10,
          "output_type": "execute_result",
          "data": {
            "text/plain": "dict_items([('name', 'Steffin thomas'), ('weekly intake', 5), ('favorite flavor', ['MCC', 'chocolate', 'vanilla'])])"
          },
          "metadata": {}
        }
      ],
      "execution_count": 10
    },
    {
      "id": "9dd0729b-0f65-4146-a916-3ed0e694b184",
      "cell_type": "code",
      "source": "dict_creams['name']",
      "metadata": {
        "trusted": true
      },
      "outputs": [
        {
          "execution_count": 14,
          "output_type": "execute_result",
          "data": {
            "text/plain": "'Steffin thomas'"
          },
          "metadata": {}
        }
      ],
      "execution_count": 14
    },
    {
      "id": "14074d73-4c44-4607-aee0-e85fb47b8939",
      "cell_type": "code",
      "source": "dict_creams['name'] = 'Steffz'",
      "metadata": {
        "trusted": true
      },
      "outputs": [],
      "execution_count": 15
    },
    {
      "id": "ab8c10e1-fb86-4866-8ae3-bfe9e59ebd75",
      "cell_type": "code",
      "source": "dict_creams.items()",
      "metadata": {
        "trusted": true
      },
      "outputs": [
        {
          "execution_count": 16,
          "output_type": "execute_result",
          "data": {
            "text/plain": "dict_items([('name', 'Steffz'), ('weekly intake', 5), ('favorite flavor', ['MCC', 'chocolate', 'vanilla'])])"
          },
          "metadata": {}
        }
      ],
      "execution_count": 16
    },
    {
      "id": "b7e71f58-73ca-4a5a-b3c9-f59c187b06bf",
      "cell_type": "code",
      "source": "dict_creams.update({'name': 'Steffin thomas', 'weekly intake': 9, 'favorite flavor': [ 'chocolate', 'vanilla']}\n)",
      "metadata": {
        "trusted": true
      },
      "outputs": [],
      "execution_count": 21
    },
    {
      "id": "cc7a3c36-cb61-43fd-83c5-617e981f833e",
      "cell_type": "markdown",
      "source": "dict_creams.items()",
      "metadata": {}
    },
    {
      "id": "b30cd842-c5c4-41bc-a8e8-3045b4e07481",
      "cell_type": "code",
      "source": "del dict_creams['weekly intake']\nprint(dict_creams)",
      "metadata": {
        "trusted": true
      },
      "outputs": [
        {
          "name": "stdout",
          "output_type": "stream",
          "text": "{'name': 'Steffin thomas', 'favorite flavor': ['chocolate', 'vanilla']}\n"
        }
      ],
      "execution_count": 22
    },
    {
      "id": "1e554bd2-c4f4-43a0-8604-c516a11be65d",
      "cell_type": "markdown",
      "source": "# Comparison operator",
      "metadata": {}
    },
    {
      "id": "84a3c1be-dbd5-4738-a4f3-76da4b5a8a2f",
      "cell_type": "code",
      "source": "10 == 10",
      "metadata": {
        "trusted": true
      },
      "outputs": [
        {
          "execution_count": 1,
          "output_type": "execute_result",
          "data": {
            "text/plain": "True"
          },
          "metadata": {}
        }
      ],
      "execution_count": 1
    },
    {
      "id": "e2414abe-b41e-4793-a51c-f7e9b82a78e0",
      "cell_type": "code",
      "source": "10 == 50",
      "metadata": {
        "trusted": true
      },
      "outputs": [
        {
          "execution_count": 3,
          "output_type": "execute_result",
          "data": {
            "text/plain": "False"
          },
          "metadata": {}
        }
      ],
      "execution_count": 3
    },
    {
      "id": "11e0cc47-1f1e-4d2e-8d7a-7156a46856fa",
      "cell_type": "code",
      "source": "10 != 50",
      "metadata": {
        "trusted": true
      },
      "outputs": [
        {
          "execution_count": 4,
          "output_type": "execute_result",
          "data": {
            "text/plain": "True"
          },
          "metadata": {}
        }
      ],
      "execution_count": 4
    },
    {
      "id": "8fd453b0-3fde-4fba-a562-ad2ebe0063ac",
      "cell_type": "code",
      "source": "'vanilla' != 'chocolate'",
      "metadata": {
        "trusted": true
      },
      "outputs": [
        {
          "execution_count": 6,
          "output_type": "execute_result",
          "data": {
            "text/plain": "True"
          },
          "metadata": {}
        }
      ],
      "execution_count": 6
    },
    {
      "id": "54522b4e-4546-42ab-932b-9c762dbb9a15",
      "cell_type": "markdown",
      "source": "# Logical operator",
      "metadata": {}
    },
    {
      "id": "5e4a11f7-2b2b-402a-9497-8fff4b5d9a71",
      "cell_type": "code",
      "source": "(70 > 50) and (50 > 10)",
      "metadata": {
        "trusted": true
      },
      "outputs": [
        {
          "execution_count": 7,
          "output_type": "execute_result",
          "data": {
            "text/plain": "True"
          },
          "metadata": {}
        }
      ],
      "execution_count": 7
    },
    {
      "id": "17b6ae85-3718-4676-888d-2c3446dc12f3",
      "cell_type": "code",
      "source": "(10 > 50) or (50 > 10)",
      "metadata": {
        "trusted": true
      },
      "outputs": [
        {
          "execution_count": 9,
          "output_type": "execute_result",
          "data": {
            "text/plain": "True"
          },
          "metadata": {}
        }
      ],
      "execution_count": 9
    },
    {
      "id": "e3409c77-333f-4261-910e-2d54b96513d4",
      "cell_type": "markdown",
      "source": "# membership operator",
      "metadata": {}
    },
    {
      "id": "146330ec-7c8e-423f-9f03-8b1cc6b40b7d",
      "cell_type": "code",
      "source": "ice_cream = 'i love ice cream'",
      "metadata": {
        "trusted": true
      },
      "outputs": [],
      "execution_count": 10
    },
    {
      "id": "33da2445-1405-460f-a2cf-20b33c3e1424",
      "cell_type": "code",
      "source": "'love' in ice_cream",
      "metadata": {
        "trusted": true
      },
      "outputs": [
        {
          "execution_count": 12,
          "output_type": "execute_result",
          "data": {
            "text/plain": "True"
          },
          "metadata": {}
        }
      ],
      "execution_count": 12
    },
    {
      "id": "c70ead33-abdb-46f5-95b1-17b243ceaab8",
      "cell_type": "code",
      "source": "'helo' in ice_cream",
      "metadata": {
        "trusted": true
      },
      "outputs": [
        {
          "execution_count": 14,
          "output_type": "execute_result",
          "data": {
            "text/plain": "False"
          },
          "metadata": {}
        }
      ],
      "execution_count": 14
    },
    {
      "id": "2accf197-e0dc-4da9-8f66-1331396e252f",
      "cell_type": "code",
      "source": "'helo' not in ice_cream",
      "metadata": {
        "trusted": true
      },
      "outputs": [
        {
          "execution_count": 15,
          "output_type": "execute_result",
          "data": {
            "text/plain": "True"
          },
          "metadata": {}
        }
      ],
      "execution_count": 15
    },
    {
      "id": "20ed1e3c-641f-4369-9fd9-9ef73afa3773",
      "cell_type": "markdown",
      "source": "# if - elif - else statement",
      "metadata": {}
    },
    {
      "id": "558894be-cd47-496b-893f-c28de97a4cb6",
      "cell_type": "code",
      "source": "if 25 > 50:\n    print('it worked')\nelif 25 > 10:\n    print('it worked again')\nelse:\n    print('not worked')",
      "metadata": {
        "trusted": true
      },
      "outputs": [
        {
          "name": "stdout",
          "output_type": "stream",
          "text": "it worked again\n"
        }
      ],
      "execution_count": 19
    },
    {
      "id": "615ff591-5a66-42bf-a306-591c38f374b9",
      "cell_type": "code",
      "source": "print('Steffin was correct') if 25 > 20 else print('it doesnt work')",
      "metadata": {
        "trusted": true
      },
      "outputs": [
        {
          "name": "stdout",
          "output_type": "stream",
          "text": "Steffin was correct\n"
        }
      ],
      "execution_count": 22
    },
    {
      "id": "14b2912c-c8f5-4adc-8b56-d15d519bc611",
      "cell_type": "markdown",
      "source": "# for loop",
      "metadata": {}
    },
    {
      "id": "5012afc5-07ec-45a1-ad0f-94f7522aee62",
      "cell_type": "code",
      "source": "integer = [1,2,3,4,5]",
      "metadata": {
        "trusted": true
      },
      "outputs": [],
      "execution_count": 23
    },
    {
      "id": "e722b05b-24a8-4d73-bf32-a7b1686d0397",
      "cell_type": "code",
      "source": "for num in integer:\n    print(num)",
      "metadata": {
        "trusted": true
      },
      "outputs": [
        {
          "name": "stdout",
          "output_type": "stream",
          "text": "1\n2\n3\n4\n5\n"
        }
      ],
      "execution_count": 24
    },
    {
      "id": "48e11683-4a6e-403d-ae60-9a103945a65d",
      "cell_type": "code",
      "source": "ice_cream_dict = {'name': 'steffin thomas' , 'weekly intake':5, 'favourite icecream flavour': ['MCC', 'chocolate']}",
      "metadata": {
        "trusted": true
      },
      "outputs": [],
      "execution_count": 25
    },
    {
      "id": "7ddbc1fc-361b-47f9-ac04-c8eb2dac153d",
      "cell_type": "code",
      "source": "for cream in ice_cream_dict.values():\n    print(cream)",
      "metadata": {
        "trusted": true
      },
      "outputs": [
        {
          "name": "stdout",
          "output_type": "stream",
          "text": "steffin thomas\n5\n['MCC', 'chocolate']\n"
        }
      ],
      "execution_count": 27
    },
    {
      "id": "5bf6d1db-3403-4f9b-9bbb-193645bedaeb",
      "cell_type": "code",
      "source": "for key, value in ice_cream_dict.items():\n    print(key , '->', value)",
      "metadata": {
        "trusted": true
      },
      "outputs": [
        {
          "name": "stdout",
          "output_type": "stream",
          "text": "name -> steffin thomas\nweekly intake -> 5\nfavourite icecream flavour -> ['MCC', 'chocolate']\n"
        }
      ],
      "execution_count": 31
    },
    {
      "id": "fa551d22-dcf3-47eb-9d04-ade73a8af173",
      "cell_type": "markdown",
      "source": "# nested for loop",
      "metadata": {}
    },
    {
      "id": "a910ca24-85f9-4d4c-92b9-f6f9205a8d9c",
      "cell_type": "code",
      "source": "flavours = ['chocolate', 'vanilla', 'lime']\ntoppings = ['hot fudge', 'oreas', 'marshmallows']",
      "metadata": {
        "trusted": true
      },
      "outputs": [],
      "execution_count": 32
    },
    {
      "id": "9e087915-726f-4a19-8a60-55c03b56dc48",
      "cell_type": "code",
      "source": "for one in flavours:\n    for two in toppings:\n        print(one , 'topped with', two)",
      "metadata": {
        "trusted": true
      },
      "outputs": [
        {
          "name": "stdout",
          "output_type": "stream",
          "text": "chocolate topped with hot fudge\nchocolate topped with oreas\nchocolate topped with marshmallows\nvanilla topped with hot fudge\nvanilla topped with oreas\nvanilla topped with marshmallows\nlime topped with hot fudge\nlime topped with oreas\nlime topped with marshmallows\n"
        }
      ],
      "execution_count": 33
    },
    {
      "id": "51d801e2-b59b-4c4d-8ca6-4edca66ffed1",
      "cell_type": "markdown",
      "source": "# while loop",
      "metadata": {}
    },
    {
      "id": "1fee3df3-3216-4a91-9638-43d7cf58d64d",
      "cell_type": "code",
      "source": "num = 0\nwhile num < 5:\n    print(num)\n    num = num + 1",
      "metadata": {
        "trusted": true
      },
      "outputs": [
        {
          "name": "stdout",
          "output_type": "stream",
          "text": "0\n1\n2\n3\n4\n"
        }
      ],
      "execution_count": 36
    },
    {
      "id": "ee4363b3-c063-4940-bf9f-75433449ae45",
      "cell_type": "code",
      "source": "num = 0\nwhile num < 5:\n    print(num)\n    if num == 3:\n        break;\n    num = num + 1",
      "metadata": {
        "trusted": true
      },
      "outputs": [
        {
          "name": "stdout",
          "output_type": "stream",
          "text": "0\n1\n2\n3\n"
        }
      ],
      "execution_count": 37
    },
    {
      "id": "67c88877-d6ae-4936-bd37-55e6a54a24d4",
      "cell_type": "code",
      "source": "num = 0\nwhile num < 5:\n    print(num)\n    if num == 7:\n        break;\n    num = num + 1\nelse:\n    print('No longer < 5')",
      "metadata": {
        "trusted": true
      },
      "outputs": [
        {
          "name": "stdout",
          "output_type": "stream",
          "text": "0\n1\n2\n3\n4\nNo longer < 5\n"
        }
      ],
      "execution_count": 1
    },
    {
      "id": "ca87f2ef-a099-4e5f-97c5-6128afbe1a2c",
      "cell_type": "code",
      "source": "num = 0\nwhile num < 5:\n    num = num + 1\n    if num == 3:\n        continue\n    print(num)\nelse:\n    print('No longer < 5')",
      "metadata": {
        "trusted": true
      },
      "outputs": [
        {
          "name": "stdout",
          "output_type": "stream",
          "text": "1\n2\n4\n5\nNo longer < 5\n"
        }
      ],
      "execution_count": 2
    },
    {
      "id": "29e834ca-a980-4099-ab0f-7c0a5e3636b1",
      "cell_type": "markdown",
      "source": "# Functions",
      "metadata": {}
    },
    {
      "id": "91feb7f9-a612-4302-af9e-016ddf1e84de",
      "cell_type": "code",
      "source": "def firt_func():\n    print('first function statement')",
      "metadata": {
        "trusted": true
      },
      "outputs": [],
      "execution_count": 3
    },
    {
      "id": "da300ae6-da4f-4bf1-a6bf-5d75daf9d11a",
      "cell_type": "code",
      "source": "firt_func()",
      "metadata": {
        "trusted": true
      },
      "outputs": [
        {
          "name": "stdout",
          "output_type": "stream",
          "text": "first function statement\n"
        }
      ],
      "execution_count": 4
    },
    {
      "id": "553567bc-4a38-4d8b-9240-d04da54cf8e4",
      "cell_type": "code",
      "source": "def square_num(num):\n    print(num**2)",
      "metadata": {
        "trusted": true
      },
      "outputs": [],
      "execution_count": 6
    },
    {
      "id": "b017a8ed-109a-49c8-910e-cd45c43a8c7e",
      "cell_type": "code",
      "source": "square_num(15)",
      "metadata": {
        "trusted": true
      },
      "outputs": [
        {
          "name": "stdout",
          "output_type": "stream",
          "text": "225\n"
        }
      ],
      "execution_count": 8
    },
    {
      "id": "df27e078-e4b6-49b0-962f-8e2e16ad8077",
      "cell_type": "code",
      "source": "def square_num_power(num,powe):\n    print(num**powe)",
      "metadata": {
        "trusted": true
      },
      "outputs": [],
      "execution_count": 13
    },
    {
      "id": "fb79982a-a1a8-4175-99cb-81764c0f5ec9",
      "cell_type": "code",
      "source": "square_num_power(19,9)",
      "metadata": {
        "trusted": true
      },
      "outputs": [
        {
          "name": "stdout",
          "output_type": "stream",
          "text": "322687697779\n"
        }
      ],
      "execution_count": 15
    },
    {
      "id": "1222922d-d5a0-43c0-87ad-0d10c4915de6",
      "cell_type": "code",
      "source": "# arbutuary arguments (arguments are unknow at the type of writing the functions)",
      "metadata": {
        "trusted": true
      },
      "outputs": [],
      "execution_count": 1
    },
    {
      "id": "8f6823a5-5000-4916-95b2-070eb5a21a92",
      "cell_type": "code",
      "source": "def arbu_func(*num):\n    print(num[0] * num[1])",
      "metadata": {
        "trusted": true
      },
      "outputs": [],
      "execution_count": 2
    },
    {
      "id": "711b6247-f030-4f08-8f05-f57b4c9bbf35",
      "cell_type": "code",
      "source": "arbu_func(10,50,70)",
      "metadata": {
        "trusted": true
      },
      "outputs": [
        {
          "name": "stdout",
          "output_type": "stream",
          "text": "500\n"
        }
      ],
      "execution_count": 3
    },
    {
      "id": "a47707f3-35b9-477c-8f27-179d4c347940",
      "cell_type": "code",
      "source": "# to pass out tuple values we should do as cells specified down below",
      "metadata": {
        "trusted": true
      },
      "outputs": [],
      "execution_count": 4
    },
    {
      "id": "4ac2f874-40c5-4d42-b77b-d96bed4a188d",
      "cell_type": "code",
      "source": "values = (5, 6, 7, 8, 9, 10)\ndef arbu_func(*num):\n    print(num[0] * num[1])",
      "metadata": {
        "trusted": true
      },
      "outputs": [],
      "execution_count": 5
    },
    {
      "id": "c395128a-0ba5-4863-a44c-c4598271157b",
      "cell_type": "code",
      "source": "arbu_func(*values)",
      "metadata": {
        "trusted": true
      },
      "outputs": [
        {
          "name": "stdout",
          "output_type": "stream",
          "text": "30\n"
        }
      ],
      "execution_count": 6
    },
    {
      "id": "95d4ca0b-1323-4b29-80f3-0ebe5cc14ffa",
      "cell_type": "code",
      "source": "# keyword arguments",
      "metadata": {
        "trusted": true
      },
      "outputs": [],
      "execution_count": 7
    },
    {
      "id": "3f3352a1-3b49-4b5f-8425-9e05ddc9c7fa",
      "cell_type": "code",
      "source": "def square_num_power(num,powe):\n    print(num**powe)",
      "metadata": {
        "trusted": true
      },
      "outputs": [],
      "execution_count": 8
    },
    {
      "id": "ea40ed4d-a144-45f6-b886-59d6289e1b43",
      "cell_type": "code",
      "source": "square_num_power(powe=19, num=9)",
      "metadata": {
        "trusted": true
      },
      "outputs": [
        {
          "name": "stdout",
          "output_type": "stream",
          "text": "1350851717672992089\n"
        }
      ],
      "execution_count": 10
    },
    {
      "id": "5e6bf3c6-4ef3-4ba1-9119-77ce491a6f80",
      "cell_type": "code",
      "source": "# arbutuary keyword arguments",
      "metadata": {
        "trusted": true
      },
      "outputs": [],
      "execution_count": 11
    },
    {
      "id": "04725c72-71a3-4186-8b42-7578dfac0035",
      "cell_type": "code",
      "source": "def arbu_key(**num):\n    print('my first number is: ' + num['integer'], ' ', 'my second number is: ' + num['integer2'], ' ' , 'my third number is: ' + num['integer3'])",
      "metadata": {
        "trusted": true
      },
      "outputs": [],
      "execution_count": 14
    },
    {
      "id": "0ed9e49f-4f26-4a78-8571-8025b87a6838",
      "cell_type": "code",
      "source": "arbu_key(integer = '12345', integer2 = '5678', integer3= '2029')",
      "metadata": {
        "trusted": true
      },
      "outputs": [
        {
          "name": "stdout",
          "output_type": "stream",
          "text": "my first number is: 12345   my second number is: 5678   my third number is: 2029\n"
        }
      ],
      "execution_count": 15
    },
    {
      "id": "e2fe3f69-aabd-44d0-9f8d-c247b6f6a224",
      "cell_type": "markdown",
      "source": "# converting datatypes ",
      "metadata": {}
    },
    {
      "id": "68b15b00-a465-43cf-af59-3cbc3b29e370",
      "cell_type": "code",
      "source": "num_int = 7\ntype(num_int)",
      "metadata": {
        "trusted": true
      },
      "outputs": [
        {
          "execution_count": 16,
          "output_type": "execute_result",
          "data": {
            "text/plain": "int"
          },
          "metadata": {}
        }
      ],
      "execution_count": 16
    },
    {
      "id": "fd6b8a99-8db6-49e9-9ead-9694a67c525a",
      "cell_type": "code",
      "source": "num_str = '7'\ntype(num_str)",
      "metadata": {
        "trusted": true
      },
      "outputs": [
        {
          "execution_count": 17,
          "output_type": "execute_result",
          "data": {
            "text/plain": "str"
          },
          "metadata": {}
        }
      ],
      "execution_count": 17
    },
    {
      "id": "ad0be8d2-76cf-4f8a-a985-900a17eebaf2",
      "cell_type": "code",
      "source": "# we cannot add string with integer so we convert it...\nnum_conv_str_int = int(num_str)\ntype(num_conv_str_int)\n",
      "metadata": {
        "trusted": true
      },
      "outputs": [
        {
          "execution_count": 21,
          "output_type": "execute_result",
          "data": {
            "text/plain": "int"
          },
          "metadata": {}
        }
      ],
      "execution_count": 21
    },
    {
      "id": "95ed3691-f00d-4b11-94c2-1e4ab64a80a4",
      "cell_type": "code",
      "source": "num_sum = num_int + num_conv_str_int \nprint(num_sum)",
      "metadata": {
        "trusted": true
      },
      "outputs": [
        {
          "name": "stdout",
          "output_type": "stream",
          "text": "14\n"
        }
      ],
      "execution_count": 22
    },
    {
      "id": "612ac917-58bf-4b35-9b31-fdbc6777e194",
      "cell_type": "code",
      "source": "# converting datatypes: list to tuple",
      "metadata": {
        "trusted": true
      },
      "outputs": [],
      "execution_count": 1
    },
    {
      "id": "7f7359d2-91da-4b2f-b2e8-33cc952d5520",
      "cell_type": "code",
      "source": "list_type= [1,2,3]",
      "metadata": {
        "trusted": true
      },
      "outputs": [],
      "execution_count": 3
    },
    {
      "id": "4a19f173-646a-4b1a-8465-5e3dc2c68506",
      "cell_type": "code",
      "source": "type(list_type)",
      "metadata": {
        "trusted": true
      },
      "outputs": [
        {
          "execution_count": 4,
          "output_type": "execute_result",
          "data": {
            "text/plain": "list"
          },
          "metadata": {}
        }
      ],
      "execution_count": 4
    },
    {
      "id": "1cbe5697-59e6-4d50-a922-a6f03b1cefd6",
      "cell_type": "code",
      "source": "type(tuple(list_type))",
      "metadata": {
        "trusted": true
      },
      "outputs": [
        {
          "execution_count": 7,
          "output_type": "execute_result",
          "data": {
            "text/plain": "tuple"
          },
          "metadata": {}
        }
      ],
      "execution_count": 7
    },
    {
      "id": "7f8e8c32-80a7-4ff6-8518-086ddd04c4e6",
      "cell_type": "code",
      "source": "",
      "metadata": {
        "trusted": true
      },
      "outputs": [],
      "execution_count": null
    }
  ]
}