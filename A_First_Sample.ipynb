{
  "metadata": {
    "kernelspec": {
      "name": "python",
      "display_name": "Python (Pyodide)",
      "language": "python"
    },
    "language_info": {
      "codemirror_mode": {
        "name": "python",
        "version": 3
      },
      "file_extension": ".py",
      "mimetype": "text/x-python",
      "name": "python",
      "nbconvert_exporter": "python",
      "pygments_lexer": "ipython3",
      "version": "3.8"
    }
  },
  "nbformat_minor": 5,
  "nbformat": 4,
  "cells": [
    {
      "id": "8f3b4e0a-bccb-4c24-a7c7-cbadf39c8ff2",
      "cell_type": "code",
      "source": "print(\"helo world\")",
      "metadata": {
        "trusted": true
      },
      "outputs": [
        {
          "name": "stdout",
          "output_type": "stream",
          "text": "helo world\n"
        }
      ],
      "execution_count": 1
    },
    {
      "id": "d81bb9a2-5567-431b-a09b-bb38e7420aa0",
      "cell_type": "markdown",
      "source": "# sample Project",
      "metadata": {}
    },
    {
      "id": "03e1042b-c732-42cd-a78d-f9265b5b2c37",
      "cell_type": "code",
      "source": "a = \"hello world!\"",
      "metadata": {
        "trusted": true
      },
      "outputs": [],
      "execution_count": 2
    },
    {
      "id": "cc4b1d7e-2d82-4811-aaf4-e5668a35888f",
      "cell_type": "code",
      "source": "print(a[4])",
      "metadata": {
        "trusted": true
      },
      "outputs": [
        {
          "name": "stdout",
          "output_type": "stream",
          "text": "o\n"
        }
      ],
      "execution_count": 6
    },
    {
      "id": "3e8d3b47-995b-4a79-9e4b-9e3c841b620c",
      "cell_type": "code",
      "source": "print(a[:5])",
      "metadata": {
        "trusted": true
      },
      "outputs": [
        {
          "name": "stdout",
          "output_type": "stream",
          "text": "hello\n"
        }
      ],
      "execution_count": 4
    },
    {
      "id": "bbb792cc-1d7f-49f9-b845-dfb9d387d1b7",
      "cell_type": "code",
      "source": "print(a[2:5])",
      "metadata": {
        "trusted": true
      },
      "outputs": [
        {
          "name": "stdout",
          "output_type": "stream",
          "text": "llo\n"
        }
      ],
      "execution_count": 5
    },
    {
      "id": "ca9d4a3b-2565-47a3-9198-435e1f984c8e",
      "cell_type": "markdown",
      "source": "# list",
      "metadata": {}
    },
    {
      "id": "bb389527-38dc-4edd-ba65-6fb53ababb6f",
      "cell_type": "code",
      "source": "ice_cream = ['hot chocolate', 'vanila', 'strawberry']\nice_cream",
      "metadata": {
        "trusted": true
      },
      "outputs": [
        {
          "execution_count": 8,
          "output_type": "execute_result",
          "data": {
            "text/plain": "['hot chocolate', 'vanila', 'strawberry']"
          },
          "metadata": {}
        }
      ],
      "execution_count": 8
    },
    {
      "id": "909d0bd4-eb30-4d48-915b-7975a3690d05",
      "cell_type": "code",
      "source": "ice_cream.append('salted caramel')\nice_cream",
      "metadata": {
        "trusted": true
      },
      "outputs": [
        {
          "execution_count": 9,
          "output_type": "execute_result",
          "data": {
            "text/plain": "['hot chocolate', 'vanila', 'strawberry', 'salted caramel']"
          },
          "metadata": {}
        }
      ],
      "execution_count": 9
    },
    {
      "id": "6d6a5ba7-15cd-4368-9995-7d27ca77641c",
      "cell_type": "code",
      "source": "ice_cream[0] = 'butter pecan'",
      "metadata": {
        "trusted": true
      },
      "outputs": [],
      "execution_count": 10
    },
    {
      "id": "5121de10-b407-42ec-bf3f-1ccf6c25fc36",
      "cell_type": "code",
      "source": "ice_cream",
      "metadata": {
        "trusted": true
      },
      "outputs": [
        {
          "execution_count": 11,
          "output_type": "execute_result",
          "data": {
            "text/plain": "['butter pecan', 'vanila', 'strawberry', 'salted caramel']"
          },
          "metadata": {}
        }
      ],
      "execution_count": 11
    },
    {
      "id": "8b8aa612-8673-4bd6-96fb-b8a4e9b3127e",
      "cell_type": "markdown",
      "source": "# Tuples",
      "metadata": {}
    },
    {
      "id": "3d6845f1-ee44-4c01-8592-61c4c46156ba",
      "cell_type": "code",
      "source": "hello = (1,2,3,2,1)",
      "metadata": {
        "trusted": true
      },
      "outputs": [],
      "execution_count": 12
    },
    {
      "id": "bc32129a-8a5a-496b-a93e-b2ef76d92a40",
      "cell_type": "code",
      "source": "hello",
      "metadata": {
        "trusted": true
      },
      "outputs": [
        {
          "execution_count": 13,
          "output_type": "execute_result",
          "data": {
            "text/plain": "(1, 2, 3, 2, 1)"
          },
          "metadata": {}
        }
      ],
      "execution_count": 13
    },
    {
      "id": "0ff0db85-78e4-4e2c-a3ee-8dc0d1f11a70",
      "cell_type": "code",
      "source": "type(hello)",
      "metadata": {
        "trusted": true
      },
      "outputs": [
        {
          "execution_count": 14,
          "output_type": "execute_result",
          "data": {
            "text/plain": "tuple"
          },
          "metadata": {}
        }
      ],
      "execution_count": 14
    },
    {
      "id": "a55c3b8f-d706-472f-b0ed-ebd548e1bd6b",
      "cell_type": "code",
      "source": "number_values = {1,2,3, 9, 32, 7, 8, 9, 10, 88, 87, 87, 86}",
      "metadata": {
        "trusted": true
      },
      "outputs": [],
      "execution_count": 29
    },
    {
      "id": "e00b928b-4ada-4480-b4f2-ba6dc83ba066",
      "cell_type": "code",
      "source": "type(number_values)",
      "metadata": {
        "trusted": true
      },
      "outputs": [
        {
          "execution_count": 16,
          "output_type": "execute_result",
          "data": {
            "text/plain": "set"
          },
          "metadata": {}
        }
      ],
      "execution_count": 16
    },
    {
      "id": "bdb612c6-2b2a-47d1-ad75-00315bc5c28e",
      "cell_type": "code",
      "source": "print(number_values)",
      "metadata": {
        "trusted": true
      },
      "outputs": [
        {
          "name": "stdout",
          "output_type": "stream",
          "text": "{32, 1, 2, 3, 7, 8, 9, 10, 86, 87, 88}\n"
        }
      ],
      "execution_count": 30
    },
    {
      "id": "e2458d4b-5d53-45e8-a73a-e8aee7ec87fd",
      "cell_type": "code",
      "source": "number_values_comparison = {1,2,3, 4, 6, 7, 82, 90, 21}",
      "metadata": {
        "trusted": true
      },
      "outputs": [],
      "execution_count": 19
    },
    {
      "id": "5907e3e5-71b7-4218-b7fe-bd910d461fa5",
      "cell_type": "code",
      "source": "print(number_values | number_values_comparison)",
      "metadata": {
        "trusted": true
      },
      "outputs": [
        {
          "name": "stdout",
          "output_type": "stream",
          "text": "{1, 2, 3, 4, 6, 7, 82, 21, 90}\n"
        }
      ],
      "execution_count": 20
    },
    {
      "id": "c9037c52-d562-4e1d-9575-0ce0a5988bdd",
      "cell_type": "code",
      "source": "print(number_values & number_values_comparison)",
      "metadata": {
        "trusted": true
      },
      "outputs": [
        {
          "name": "stdout",
          "output_type": "stream",
          "text": "{1, 2, 3}\n"
        }
      ],
      "execution_count": 21
    },
    {
      "id": "85f355fa-4f60-4cf5-8a13-e27c3e058c4b",
      "cell_type": "code",
      "source": "print(number_values - number_values_comparison)",
      "metadata": {
        "trusted": true
      },
      "outputs": [
        {
          "name": "stdout",
          "output_type": "stream",
          "text": "{32, 8, 9, 10, 86, 87, 88}\n"
        }
      ],
      "execution_count": 31
    },
    {
      "id": "a5f3ee92-fce9-4d36-99dc-90b9b1f4d1da",
      "cell_type": "code",
      "source": "print(number_values_comparison - number_values)",
      "metadata": {
        "trusted": true
      },
      "outputs": [
        {
          "name": "stdout",
          "output_type": "stream",
          "text": "{4, 6, 82, 21, 90}\n"
        }
      ],
      "execution_count": 32
    },
    {
      "id": "7a8d66d3-f357-4af1-b882-0c76b4f99fa0",
      "cell_type": "code",
      "source": "print(number_values ^ number_values_comparison)",
      "metadata": {
        "trusted": true
      },
      "outputs": [
        {
          "name": "stdout",
          "output_type": "stream",
          "text": "{32, 4, 6, 8, 9, 10, 82, 21, 86, 87, 88, 90}\n"
        }
      ],
      "execution_count": 33
    },
    {
      "id": "a5488ca5-bbe1-4a06-bc5f-c983a8b8834b",
      "cell_type": "markdown",
      "source": "# dictinonary",
      "metadata": {}
    },
    {
      "id": "be8eec66-02c7-450e-8408-492f51478575",
      "cell_type": "code",
      "source": "",
      "metadata": {
        "trusted": true
      },
      "outputs": [],
      "execution_count": null
    }
  ]
}