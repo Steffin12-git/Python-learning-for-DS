{
  "metadata": {
    "kernelspec": {
      "name": "python",
      "display_name": "Python (Pyodide)",
      "language": "python"
    },
    "language_info": {
      "codemirror_mode": {
        "name": "python",
        "version": 3
      },
      "file_extension": ".py",
      "mimetype": "text/x-python",
      "name": "python",
      "nbconvert_exporter": "python",
      "pygments_lexer": "ipython3",
      "version": "3.8"
    }
  },
  "nbformat_minor": 5,
  "nbformat": 4,
  "cells": [
    {
      "id": "15b66d54-3582-464b-b17f-d4ec4005f745",
      "cell_type": "markdown",
      "source": "# Automatic file sorter",
      "metadata": {}
    },
    {
      "id": "5c8d7dbf-1f21-4492-a3f1-7b0ff5092297",
      "cell_type": "code",
      "source": "import os , shutil",
      "metadata": {
        "trusted": true
      },
      "outputs": [],
      "execution_count": 14
    },
    {
      "id": "813a9658-e20c-4e79-bd07-9b8abf563fa2",
      "cell_type": "code",
      "source": "path = r\"D:/Data/Python ds/python project sorting/\"",
      "metadata": {
        "trusted": true
      },
      "outputs": [],
      "execution_count": 15
    },
    {
      "id": "1ddb6deb-5579-465d-8308-c33d9c93f9dd",
      "cell_type": "code",
      "source": "file_name= os.listdir(path)",
      "metadata": {
        "trusted": true
      },
      "outputs": [],
      "execution_count": 22
    },
    {
      "id": "a5f58486-636a-46a5-95bc-25f3623a7c42",
      "cell_type": "code",
      "source": "folder_names = ['csv files', 'image files', 'text files'] \n\nfor loop in range(0,3  ):\n    if not os.path.exists(path + folder_names[loop]):\n        print(path + folder_names[loop])\n        os.makedirs((path + folder_names[loop]))",
      "metadata": {
        "trusted": true
      },
      "outputs": [],
      "execution_count": null
    },
    {
      "id": "1fc66158-7112-48a9-86f0-b8e44142c0db",
      "cell_type": "code",
      "source": "for file in file_name:\n    if \".csv\" in file and not os.path.exists(path + \"csv files/\" + file):\n        shutil.move(path + file, path + \"csv files/\" + file)\n    elif \".png\" in file and not os.path.exists(path + \"image files/\" + file):\n        shutil.move(path + file, path + \"image files/\" + file)\n    elif \".txt\" in file and not os.path.exists(path + \"text files/\" + file):\n        shutil.move(path + file, path + \"text files/\" + file)\n        ",
      "metadata": {
        "trusted": true
      },
      "outputs": [],
      "execution_count": null
    }
  ]
}