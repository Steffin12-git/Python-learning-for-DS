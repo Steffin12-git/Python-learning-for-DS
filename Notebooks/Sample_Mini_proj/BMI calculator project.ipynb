{
  "metadata": {
    "kernelspec": {
      "name": "python",
      "display_name": "Python (Pyodide)",
      "language": "python"
    },
    "language_info": {
      "codemirror_mode": {
        "name": "python",
        "version": 3
      },
      "file_extension": ".py",
      "mimetype": "text/x-python",
      "name": "python",
      "nbconvert_exporter": "python",
      "pygments_lexer": "ipython3",
      "version": "3.8"
    },
    "colab": {
      "provenance": []
    }
  },
  "nbformat_minor": 5,
  "nbformat": 4,
  "cells": [
    {
      "id": "d1beadac-6a3f-4f2a-9779-c4652bfcc175",
      "cell_type": "markdown",
      "source": [
        "# BMI Calculator"
      ],
      "metadata": {
        "id": "d1beadac-6a3f-4f2a-9779-c4652bfcc175"
      }
    },
    {
      "id": "1f163571-2b59-47a3-9e56-23d73ca66ed8",
      "cell_type": "markdown",
      "source": [
        "BMI (weight in pounds x 703) / (height in inches x height in inches)"
      ],
      "metadata": {
        "id": "1f163571-2b59-47a3-9e56-23d73ca66ed8"
      }
    },
    {
      "id": "99dee1f4-8f65-4492-802a-b6434e8fcd64",
      "cell_type": "code",
      "source": [
        "name = input(\"Enter your name: \")\n",
        "weight = int(input(\"Enter your weight in pounds: \"))\n",
        "height = int(input(\"Enter your height in inches: \"))\n",
        "BMI = (weight * 703) / (height * height)\n",
        "if BMI>0:\n",
        "    if BMI<18.5:\n",
        "        print(name,', you are Underweight', ', your BMI is: ', BMI)\n",
        "    elif BMI<=24.9:\n",
        "        print(name,', you are Normal Weight!', ', your BMI is: ', BMI)\n",
        "    elif BMI<=29.9:\n",
        "        print(name,', you are Overweight', ', your BMI is: ', BMI)\n",
        "    elif BMI<=34.9:\n",
        "        print(name,', you are Obese', ', your BMI is: ', BMI)\n",
        "    elif (BMI<=39.9):\n",
        "        print(name,\", you are severely obese.\", ', your BMI is: ', BMI)\n",
        "    else:\n",
        "        print(name,\", you are morbidly obese.\", ', your BMI is: ', BMI)\n",
        "else:\n",
        "    print(\"Enter valid input\")"
      ],
      "metadata": {
        "trusted": true,
        "colab": {
          "base_uri": "https://localhost:8080/"
        },
        "id": "99dee1f4-8f65-4492-802a-b6434e8fcd64",
        "outputId": "a481f085-efab-432e-bea5-88685a78d856"
      },
      "outputs": [
        {
          "output_type": "stream",
          "name": "stdout",
          "text": [
            "Enter your name: steffin\n",
            "Enter your weight in pounds: 170\n",
            "Enter your height in inches: 69\n",
            "steffin , you are Overweight , your BMI is:  25.101869355177485\n"
          ]
        }
      ],
      "execution_count": 11
    },
    {
      "cell_type": "markdown",
      "source": [],
      "metadata": {
        "id": "KEobL4jMTWrH"
      },
      "id": "KEobL4jMTWrH"
    },
    {
      "cell_type": "code",
      "source": [
        "|"
      ],
      "metadata": {
        "id": "hTkpfW9QTdS_"
      },
      "id": "hTkpfW9QTdS_",
      "execution_count": null,
      "outputs": []
    }
  ]
}