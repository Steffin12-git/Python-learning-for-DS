{
 "cells": [
  {
   "cell_type": "markdown",
   "id": "8b861042-a080-44a0-a6e7-15d76562bbe4",
   "metadata": {},
   "source": [
    "# Numpy Tutorial"
   ]
  },
  {
   "cell_type": "code",
   "execution_count": 1,
   "id": "4608cee9-5721-4193-9c83-deffebfb6e0d",
   "metadata": {},
   "outputs": [],
   "source": [
    "import numpy as np"
   ]
  },
  {
   "cell_type": "code",
   "execution_count": 2,
   "id": "9dbb453a-44e3-42a5-bee2-cf23b0021ec0",
   "metadata": {},
   "outputs": [
    {
     "name": "stdout",
     "output_type": "stream",
     "text": [
      "[1, 2, 3, 4, 5]\n"
     ]
    }
   ],
   "source": [
    "lst = [1,2,3,4,5]\n",
    "print(lst)"
   ]
  },
  {
   "cell_type": "code",
   "execution_count": 6,
   "id": "01b6af10-6e06-410b-b947-3eab5306bab9",
   "metadata": {},
   "outputs": [
    {
     "name": "stdout",
     "output_type": "stream",
     "text": [
      "[1 2 3 4 5]\n"
     ]
    }
   ],
   "source": [
    "a= np.array([1,2,3,4,5])\n",
    "print(a)"
   ]
  },
  {
   "cell_type": "code",
   "execution_count": 7,
   "id": "7f0f53e6-0b69-4c5b-8f09-ab205dde6099",
   "metadata": {},
   "outputs": [
    {
     "name": "stdout",
     "output_type": "stream",
     "text": [
      "[[ 1  2  3  4  5]\n",
      " [ 6  7  8  9 10]]\n"
     ]
    }
   ],
   "source": [
    "b = np.array([[1,2,3,4,5],[6,7,8,9,10]])\n",
    "print(b)"
   ]
  },
  {
   "cell_type": "code",
   "execution_count": 8,
   "id": "633f148f-6f5b-428e-b068-143bf2dd458b",
   "metadata": {},
   "outputs": [
    {
     "name": "stdout",
     "output_type": "stream",
     "text": [
      "[[[ 1  2  3  4  5]\n",
      "  [ 6  7  8  9 10]\n",
      "  [11 12 13 14 15]]]\n"
     ]
    }
   ],
   "source": [
    "c = np.array([[[1,2,3,4,5],[6,7,8,9,10],[11,12,13,14,15]]])\n",
    "print(c)"
   ]
  },
  {
   "cell_type": "code",
   "execution_count": 11,
   "id": "0c1ea86e-00ee-4b4d-b8fe-d0b5f86c9999",
   "metadata": {},
   "outputs": [
    {
     "data": {
      "text/plain": [
       "numpy.ndarray"
      ]
     },
     "execution_count": 11,
     "metadata": {},
     "output_type": "execute_result"
    }
   ],
   "source": [
    "type(c)"
   ]
  },
  {
   "cell_type": "code",
   "execution_count": 13,
   "id": "86bcf5c5-f726-46d7-b55d-3d9b22ae39cd",
   "metadata": {},
   "outputs": [
    {
     "name": "stdout",
     "output_type": "stream",
     "text": [
      "5\n",
      "10\n",
      "15\n"
     ]
    }
   ],
   "source": [
    "print(a.size),\n",
    "print(b.size),\n",
    "print(c.size)"
   ]
  },
  {
   "cell_type": "code",
   "execution_count": 14,
   "id": "abcb535c-baa0-412e-8394-6eee06518fc0",
   "metadata": {},
   "outputs": [
    {
     "name": "stdout",
     "output_type": "stream",
     "text": [
      "(5,)\n",
      "(2, 5)\n",
      "(1, 3, 5)\n"
     ]
    }
   ],
   "source": [
    "print(a.shape),\n",
    "print(b.shape),\n",
    "print(c.shape)"
   ]
  },
  {
   "cell_type": "code",
   "execution_count": 15,
   "id": "0fdb35dd-a4a5-4012-ad79-bc61b9e42c87",
   "metadata": {},
   "outputs": [
    {
     "name": "stdout",
     "output_type": "stream",
     "text": [
      "int32\n",
      "int32\n",
      "int32\n"
     ]
    }
   ],
   "source": [
    "print(a.dtype),\n",
    "print(b.dtype),\n",
    "print(c.dtype)"
   ]
  },
  {
   "cell_type": "code",
   "execution_count": 16,
   "id": "f0bc75c0-1cf4-4743-b419-ef2704d04150",
   "metadata": {},
   "outputs": [
    {
     "name": "stdout",
     "output_type": "stream",
     "text": [
      "[[[ 1  2  3  4  5]\n",
      "  [ 6  7  8  9 10]\n",
      "  [11 12 13 14 15]]]\n",
      "float64\n"
     ]
    }
   ],
   "source": [
    "d = np.array([[[1,2,3.4,4,5],[6,7,8.2,9,10],[11,12,13.9,14,15]]])\n",
    "print(c)\n",
    "print(d.dtype)"
   ]
  },
  {
   "cell_type": "code",
   "execution_count": 23,
   "id": "40fc60b3-9002-4897-91a8-17ca286a3b53",
   "metadata": {},
   "outputs": [
    {
     "data": {
      "text/plain": [
       "array([[[ 1. ],\n",
       "        [ 6. ],\n",
       "        [11. ]],\n",
       "\n",
       "       [[ 2. ],\n",
       "        [ 7. ],\n",
       "        [12. ]],\n",
       "\n",
       "       [[ 3.4],\n",
       "        [ 8.2],\n",
       "        [13.9]],\n",
       "\n",
       "       [[ 4. ],\n",
       "        [ 9. ],\n",
       "        [14. ]],\n",
       "\n",
       "       [[ 5. ],\n",
       "        [10. ],\n",
       "        [15. ]]])"
      ]
     },
     "execution_count": 23,
     "metadata": {},
     "output_type": "execute_result"
    }
   ],
   "source": [
    "d.transpose()\n"
   ]
  },
  {
   "cell_type": "code",
   "execution_count": null,
   "id": "063ef5e4-eb72-4154-b144-2561549b1484",
   "metadata": {},
   "outputs": [],
   "source": []
  }
 ],
 "metadata": {
  "kernelspec": {
   "display_name": "Python 3 (ipykernel)",
   "language": "python",
   "name": "python3"
  },
  "language_info": {
   "codemirror_mode": {
    "name": "ipython",
    "version": 3
   },
   "file_extension": ".py",
   "mimetype": "text/x-python",
   "name": "python",
   "nbconvert_exporter": "python",
   "pygments_lexer": "ipython3",
   "version": "3.12.7"
  }
 },
 "nbformat": 4,
 "nbformat_minor": 5
}
